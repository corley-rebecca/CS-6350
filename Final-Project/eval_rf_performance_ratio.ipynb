{
 "cells": [
  {
   "cell_type": "code",
   "execution_count": 1,
   "id": "fe99764c-7864-4bd8-9c5a-c64f92612eda",
   "metadata": {},
   "outputs": [],
   "source": [
    "import os\n",
    "import numpy as np\n",
    "import matplotlib\n",
    "import matplotlib.pyplot as plt \n",
    "from matplotlib.colors import LogNorm\n",
    "from matplotlib.ticker import FuncFormatter\n",
    "titlefontsize = 13\n",
    "labelfontsize = 14\n",
    "legendfontsize = 13\n",
    "labelpad = 10\n",
    "savedir = \".\""
   ]
  },
  {
   "cell_type": "code",
   "execution_count": 2,
   "id": "f7eedb06-788a-42e4-9e80-de156991edd0",
   "metadata": {},
   "outputs": [
    {
     "name": "stdout",
     "output_type": "stream",
     "text": [
      "[[9.32386957e+04 1.10550258e+06 1.19874127e+06 ... 9.60042270e+04\n",
      "  1.80190090e+05 2.39322539e-08]\n",
      " [6.81762793e+04 3.27990141e+05 3.96166421e+05 ... 3.06213497e+04\n",
      "  8.92404838e+04 3.97895490e-09]\n",
      " [5.44004635e+04 3.34085479e+05 3.88485942e+05 ... 2.32254220e+04\n",
      "  6.59246928e+04 3.26772692e-09]\n",
      " ...\n",
      " [4.30764400e+04 1.38225742e+06 1.42533386e+06 ... 4.30165519e+04\n",
      "  6.84398346e+04 1.97475331e-08]\n",
      " [1.70360988e+04 3.14644386e+06 3.16347996e+06 ... 1.21921973e+05\n",
      "  1.34664597e+05 4.51943874e-08]\n",
      " [3.88386785e+05 8.03967596e+05 1.19235438e+06 ... 4.39365053e+04\n",
      "  2.37366896e+05 2.46991691e-08]]\n"
     ]
    }
   ],
   "source": [
    "#############################################################\n",
    "########## Initial run with original parameters #############\n",
    "#############################################################\n",
    "\n",
    "\n",
    "input_data = np.load(\"./MLtrack_data/rf_data/mese_saved_arrays_with_predictions.npy\")\n",
    "#rf_pred = input_data[:,2+3+3]; rf_true = input_data[:,2]  # enu \n",
    "#rf_pred = input_data[:,0+3+3]; rf_true = input_data[:,0]  # ehad \n",
    "#rf_pred = input_data[:,1+3+3]; rf_true = input_data[:,1]  # emu \n",
    "#print(rf_pred, rf_true)\n",
    "print(input_data)"
   ]
  },
  {
   "cell_type": "code",
   "execution_count": 3,
   "id": "a3d1dcc7-cd63-4cea-9a1d-e072eb4ce0dc",
   "metadata": {},
   "outputs": [],
   "source": [
    "enu_pred = input_data[:,2+3+3]; enu_true = input_data[:,2]; enu_ratio = (enu_pred-enu_true)/enu_true\n",
    "ehad_pred = input_data[:,0+3+3]; ehad_true = input_data[:,0]; ehad_ratio = (ehad_pred-ehad_true)/ehad_true\n",
    "emu_pred = input_data[:,1+3+3]; emu_true = input_data[:,1]; emu_ratio = (emu_pred-emu_true)/emu_true"
   ]
  },
  {
   "cell_type": "code",
   "execution_count": 4,
   "id": "be0653c9-4077-44b2-9150-4f509877c27c",
   "metadata": {},
   "outputs": [
    {
     "name": "stdout",
     "output_type": "stream",
     "text": [
      "(81,)\n",
      "(80,)\n"
     ]
    }
   ],
   "source": [
    "energy_slices = np.logspace(3,7,81)\n",
    "energy_centers = 0.5*(energy_slices[1:] + energy_slices[:-1])\n",
    "print(energy_slices.shape)\n",
    "print(energy_centers.shape)"
   ]
  },
  {
   "cell_type": "code",
   "execution_count": 5,
   "id": "375c9dcf-5172-4dd7-a5c6-e9ec888169c6",
   "metadata": {},
   "outputs": [],
   "source": [
    "# compute quantiles\n",
    "\n",
    "def calculate_quantile(hist, bins, q=0.5):  \n",
    "    total = np.sum(hist)\n",
    "    qtile = total * q \n",
    "\n",
    "    num = 0; num_low = 0; num_high = 0 \n",
    "    qbin_low = 0; qbin_high = 0 \n",
    "\n",
    "    for i in range(len(hist)): \n",
    "        num_low = num \n",
    "        num += hist[i]\n",
    "        num_high = num \n",
    "\n",
    "        if num > qtile: \n",
    "            qbin_low = i - 1 \n",
    "            qbin_high = i \n",
    "            break \n",
    "    \n",
    "    qbin = qbin_low + (qbin_high-qbin_low)*(qtile-num_low)/(num_high-num_low)\n",
    "    hist_quantile = bins[qbin_low] + (bins[qbin_high]-bins[qbin_low])*(qtile-num_low)/(num_high-num_low) \n",
    "\n",
    "    return hist_quantile"
   ]
  },
  {
   "cell_type": "code",
   "execution_count": 6,
   "id": "8c890dbd-3493-4de4-badf-670ec74cb0d8",
   "metadata": {},
   "outputs": [],
   "source": [
    "trans_rates_in_2D, new_xbins, new_ybins = np.histogram2d(enu_true, enu_pred, \n",
    "                                                         weights=np.ones(len(enu_pred))/len(enu_pred),\n",
    "                                                         bins=[energy_slices,energy_slices])\n",
    "rates_in_2D = trans_rates_in_2D.T"
   ]
  },
  {
   "cell_type": "code",
   "execution_count": 7,
   "id": "6b47f273-b42a-4b7d-8179-c1f13e0da676",
   "metadata": {},
   "outputs": [
    {
     "data": {
      "image/png": "[encoded data removed]",
      "text/plain": [
       "<Figure size 576x432 with 2 Axes>"
      ]
     },
     "metadata": {
      "needs_background": "light"
     },
     "output_type": "display_data"
    }
   ],
   "source": [
    "fig, ax = plt.subplots(1, 1, figsize=(8,6))\n",
    "\n",
    "im = ax.pcolormesh(new_xbins, new_ybins, rates_in_2D, \n",
    "                   cmap=plt.cm.get_cmap(\"plasma\"), \n",
    "                   norm=LogNorm(vmin=1e-2*np.amax(rates_in_2D), vmax=np.amax(rates_in_2D)))\n",
    "cbar = fig.colorbar(im, ax=ax)\n",
    "cbar.set_label(\"Density\", fontsize=labelfontsize, labelpad=labelpad)\n",
    "cbar.ax.tick_params(labelsize=labelfontsize)\n",
    "\n",
    "ax.set_xscale(\"log\")\n",
    "ax.set_yscale(\"log\")\n",
    "ax.set_xlim(10**3,10**6)\n",
    "ax.set_ylim(10**3,10**6)\n",
    "\n",
    "ax.set_title(\"Number of Estimators = 400 | Max Depth = 20\", fontsize=titlefontsize)\n",
    "ax.set_xlabel(r\"$E_{\\nu}^{true}$ [GeV]\", fontsize=labelfontsize, labelpad=labelpad)\n",
    "ax.set_ylabel(r\"$E_{\\nu}^{reco}$ [GeV]\", fontsize=labelfontsize, labelpad=labelpad)\n",
    "\n",
    "x = np.arange(energy_slices[0], energy_slices[-1], 10)\n",
    "y = x\n",
    "ax.plot(x, y, linestyle=\"dotted\", linewidth=2.0, color=\"black\")\n",
    "\n",
    "plt.tick_params(labelsize=labelfontsize)\n",
    "\n",
    "plt.savefig(\"rf_energy_performance_predictions_n400_md_20.png\")"
   ]
  },
  {
   "cell_type": "code",
   "execution_count": 8,
   "id": "7e9fa3dc-2efa-4d94-b693-1068d1e377d9",
   "metadata": {},
   "outputs": [],
   "source": [
    "ratio_slices = np.linspace(-3,3,121)\n",
    "ratio_centers = 0.5*(ratio_slices[1:] + ratio_slices[:-1])\n",
    "\n",
    "trans_rates_in_2D, new_xbins, new_ybins = np.histogram2d(enu_true, enu_ratio, \n",
    "                                                         weights=np.ones(len(enu_pred))/len(enu_pred),\n",
    "                                                         bins=[energy_slices,ratio_slices])\n",
    "rates_in_2D = trans_rates_in_2D.T"
   ]
  },
  {
   "cell_type": "code",
   "execution_count": 9,
   "id": "74da6bdf-50f3-4200-b89c-3c6bdf81d2b8",
   "metadata": {},
   "outputs": [
    {
     "name": "stderr",
     "output_type": "stream",
     "text": [
      "/tmp/ipykernel_1745/2288584009.py:20: RuntimeWarning: invalid value encountered in double_scalars\n",
      "  qbin = qbin_low + (qbin_high-qbin_low)*(qtile-num_low)/(num_high-num_low)\n",
      "/tmp/ipykernel_1745/2288584009.py:21: RuntimeWarning: invalid value encountered in double_scalars\n",
      "  hist_quantile = bins[qbin_low] + (bins[qbin_high]-bins[qbin_low])*(qtile-num_low)/(num_high-num_low)\n"
     ]
    },
    {
     "data": {
      "image/png": "[encoded data removed]",
      "text/plain": [
       "<Figure size 576x432 with 2 Axes>"
      ]
     },
     "metadata": {
      "needs_background": "light"
     },
     "output_type": "display_data"
    }
   ],
   "source": [
    "median = []; phalf = []; mhalf = [] \n",
    "for i in range(len(energy_centers)): \n",
    "    hist_ratio_1d = trans_rates_in_2D[i]\n",
    "    median.append(calculate_quantile(hist_ratio_1d, ratio_centers, q=0.5))\n",
    "    phalf.append(calculate_quantile(hist_ratio_1d, ratio_centers, q=0.75))\n",
    "    mhalf.append(calculate_quantile(hist_ratio_1d, ratio_centers, q=0.25))\n",
    "\n",
    "median = np.array(median, dtype=float)\n",
    "phalf = np.array(phalf, dtype=float)\n",
    "mhalf = np.array(mhalf, dtype=float)\n",
    "\n",
    "\n",
    "fig, ax = plt.subplots(1, 1, figsize=(8,6))\n",
    "\n",
    "im = ax.pcolormesh(new_xbins, new_ybins, rates_in_2D, \n",
    "                   cmap=plt.cm.get_cmap(\"plasma\"), \n",
    "                   norm=LogNorm(vmin=1e-2*np.amax(rates_in_2D), vmax=np.amax(rates_in_2D)))\n",
    "cbar = fig.colorbar(im, ax=ax)\n",
    "cbar.set_label(\"Density\", fontsize=labelfontsize, labelpad=labelpad)\n",
    "cbar.ax.tick_params(labelsize=labelfontsize)\n",
    "\n",
    "ax.set_xscale(\"log\")\n",
    "#ax.set_yscale(\"log\")\n",
    "ax.set_xlim(10**3,10**6)\n",
    "ax.set_ylim(-1.5,1.5)\n",
    "\n",
    "ax.set_title(\"Number of Estimators = 400 | Max Depth = 20\", fontsize=titlefontsize)\n",
    "ax.set_xlabel(r\"$E_{\\nu}^{true}$ [GeV]\", fontsize=labelfontsize, labelpad=labelpad)\n",
    "ax.set_ylabel(r\"$(E_{\\nu}^{reco}-E_{\\nu}^{true})/E_{\\nu}^{true}$\", fontsize=labelfontsize, labelpad=labelpad)\n",
    "\n",
    "x = np.arange(energy_slices[0], energy_slices[-1], 10)\n",
    "y = np.zeros(len(x))\n",
    "ax.plot(x, y, linestyle=\"dotted\", linewidth=2.0, color=\"black\")\n",
    "\n",
    "ax.plot(energy_centers, median, linestyle=\"solid\", linewidth=2.0, color=\"black\", label=\"median\")\n",
    "ax.plot(energy_centers, phalf, linestyle=\"dashdot\", linewidth=2.0, color=\"black\", label=\"50 percentile\")\n",
    "ax.plot(energy_centers, mhalf, linestyle=\"dashdot\", linewidth=2.0, color=\"black\")\n",
    "\n",
    "ax.legend(bbox_to_anchor=(1,1), loc=\"upper right\", borderaxespad=1, fontsize=legendfontsize-1)\n",
    "plt.tick_params(labelsize=labelfontsize)\n",
    "\n",
    "plt.savefig(\"stats_predictions_n400_md_20.png\")"
   ]
  },
  {
   "cell_type": "code",
   "execution_count": null,
   "id": "445c043e-5323-47cb-bc15-2f9cb8acec57",
   "metadata": {},
   "outputs": [],
   "source": [
    "median = []; phalf = []; mhalf = [] \n",
    "for i in range(len(energy_centers)): \n",
    "    hist_ratio_1d = trans_rates_in_2D[i]\n",
    "    median.append(calculate_quantile(hist_ratio_1d, ratio_centers, q=0.5))\n",
    "    phalf.append(calculate_quantile(hist_ratio_1d, ratio_centers, q=0.75))\n",
    "    mhalf.append(calculate_quantile(hist_ratio_1d, ratio_centers, q=0.25))\n",
    "\n",
    "median = np.array(median, dtype=float)\n",
    "phalf = np.array(phalf, dtype=float)\n",
    "mhalf = np.array(mhalf, dtype=float)\n",
    "\n",
    "\n",
    "fig, ax = plt.subplots(1, 1, figsize=(8,6))\n",
    "\n",
    "cbar.ax.tick_params(labelsize=labelfontsize)\n",
    "\n",
    "ax.set_xscale(\"log\")\n",
    "#ax.set_yscale(\"log\")\n",
    "ax.set_xlim(10**3,10**6)\n",
    "ax.set_ylim(-1.5,1.5)\n",
    "\n",
    "ax.set_title(\"Number of Estimators = 800 | Max Depth = 20\", fontsize=titlefontsize)\n",
    "ax.set_xlabel(r\"$E_{\\nu}^{true}$ [GeV]\", fontsize=labelfontsize, labelpad=labelpad)\n",
    "ax.set_ylabel(r\"$(E_{\\nu}^{reco}-E_{\\nu}^{true})/E_{\\nu}^{true}$\", fontsize=labelfontsize, labelpad=labelpad)\n",
    "\n",
    "x = np.arange(energy_slices[0], energy_slices[-1], 10)\n",
    "y = np.zeros(len(x))\n",
    "ax.plot(x, y, linestyle=\"dotted\", linewidth=2.0, color=\"black\")\n",
    "\n",
    "#ax.plot(energy_centers, median, linestyle=\"solid\", linewidth=2.0, color=\"black\", label=\"median\")\n",
    "ax.plot(energy_centers, phalf, linestyle=\"dashdot\", linewidth=2.0, color=\"black\", label=\"50 percentile\")\n",
    "#ax.plot(energy_centers, mhalf, linestyle=\"dashdot\", linewidth=2.0, color=\"black\")\n",
    "\n",
    "ax.legend(bbox_to_anchor=(1,1), loc=\"upper right\", borderaxespad=1, fontsize=legendfontsize-1)\n",
    "plt.tick_params(labelsize=labelfontsize)"
   ]
  },
  {
   "cell_type": "code",
   "execution_count": null,
   "id": "a4204e2f-74db-49bb-a7c2-72549fe1b505",
   "metadata": {},
   "outputs": [],
   "source": [
    "mu = 0.0\n",
    "sigma = 10\n",
    "\n",
    "data = np.random.normal(mu, sigma, 1000)\n",
    "\n",
    "count, bins, ignored = plt.hist(data, 30, density=True)\n",
    "plt.plot(bins, 1/(sigma * np.sqrt(2 * np.pi)) *\n",
    "               np.exp( - (bins - mu)**2 / (2 * sigma**2) ),\n",
    "         linewidth=2, color='r')\n",
    "plt.show()\n"
   ]
  },
  {
   "cell_type": "code",
   "execution_count": null,
   "id": "260854dc-858d-417f-a31d-f7fbef256c78",
   "metadata": {},
   "outputs": [],
   "source": [
    "print(bins)"
   ]
  },
  {
   "cell_type": "code",
   "execution_count": null,
   "id": "89f6db57-ccc3-4076-bbe0-2d0920522176",
   "metadata": {},
   "outputs": [],
   "source": [
    "count.shape"
   ]
  },
  {
   "cell_type": "code",
   "execution_count": null,
   "id": "d3b9bb68-1246-4a44-8548-0e582e0b8e73",
   "metadata": {},
   "outputs": [],
   "source": [
    "bins.shape"
   ]
  },
  {
   "cell_type": "code",
   "execution_count": null,
   "id": "4ead5ede-7daa-40ec-8df0-bed354c89d91",
   "metadata": {},
   "outputs": [],
   "source": [
    "## calculate median ##\n",
    "\n",
    "def calc_quantile(count, bins, q):\n",
    "    if q > 1 or q < 0:\n",
    "        return \"ERROR: q should be 0 to 1\"\n",
    "        \n",
    "    total = 0\n",
    "    median = bins[0]\n",
    "    half_sum = (sum(count)) * q\n",
    "    \n",
    "    for i in range(len(count)):\n",
    "        total += count[i]\n",
    "        if total >= half_sum:\n",
    "            median = bins[i]\n",
    "            break\n",
    "    \n",
    "            \n",
    "    return median\n"
   ]
  },
  {
   "cell_type": "code",
   "execution_count": null,
   "id": "771baa10-bb1d-4eae-993c-c883b1460f80",
   "metadata": {},
   "outputs": [],
   "source": [
    "print(calc_quantile(count, bins, q=0.5))\n",
    "print(calc_quantile(count, bins, q=0.25))\n",
    "print(calc_quantile(count, bins, q=0.75))\n",
    "print(calc_quantile(count, bins, q=0))\n",
    "print(calc_quantile(count, bins, q=100))"
   ]
  },
  {
   "cell_type": "code",
   "execution_count": null,
   "id": "ead67724-bc1e-4af5-b018-561453ee2fb1",
   "metadata": {},
   "outputs": [],
   "source": [
    "def calc_hist_quantile(hist, bins, q=0.5):  \n",
    "    total = np.sum(hist)\n",
    "    qtile = total * q \n",
    "\n",
    "    num = 0; num_low = 0; num_high = 0 \n",
    "    qbin_low = 0; qbin_high = 0 \n",
    "\n",
    "    for i in range(len(hist)): \n",
    "        num_low = num \n",
    "        num += hist[i]\n",
    "        num_high = num \n",
    "\n",
    "        if num > qtile: \n",
    "            qbin_low = i - 1 \n",
    "            qbin_high = i \n",
    "            break \n",
    "    \n",
    "    qbin = qbin_low + (qbin_high-qbin_low)*(qtile-num_low)/(num_high-num_low)\n",
    "    hist_quantile = bins[qbin_low] + (bins[qbin_high]-bins[qbin_low])*(qtile-num_low)/(num_high-num_low)\n",
    "        # maybe need to be modified for log x case \n",
    "\n",
    "    return hist_quantile"
   ]
  },
  {
   "cell_type": "code",
   "execution_count": null,
   "id": "f0db1cab-9a7f-464f-8049-2b9f0e10734b",
   "metadata": {},
   "outputs": [],
   "source": [
    "##############################\n",
    "########## medians ###########\n",
    "##############################\n",
    "\n",
    "\n",
    "input_data_400 = np.load(\"./MLtrack_data/rf_data/mese_saved_arrays_with_predictions_n400_md_100.npy\")\n",
    "input_data_800 = np.load(\"./MLtrack_data/rf_data/mese_saved_arrays_with_predictions_n800_md_100.npy\")\n",
    "input_data_10 = np.load(\"./MLtrack_data/rf_data/mese_saved_arrays_with_predictions_n1000_md_100.npy\")\n"
   ]
  },
  {
   "cell_type": "code",
   "execution_count": null,
   "id": "44918966-31da-41f9-91c7-91da80e378c1",
   "metadata": {},
   "outputs": [],
   "source": [
    "enu_pred_400 = input_data_400[:,2+3+3]; enu_true_400 = input_data_400[:,2]; enu_ratio_400 = (enu_pred_400-enu_true_400)/enu_true_400\n",
    "ehad_pred_400 = input_data_400[:,0+3+3]; ehad_true_400 = input_data_400[:,0]; ehad_ratio_400 = (ehad_pred_400-ehad_true_400)/ehad_true_400\n",
    "emu_pred_400 = input_data_400[:,1+3+3]; emu_true_400 = input_data_400[:,1]; emu_ratio_400 = (emu_pred_400-emu_true_400)/emu_true_400\n",
    "\n",
    "enu_pred_800 = input_data_800[:,2+3+3]; enu_true_800 = input_data_800[:,2]; enu_ratio_800 = (enu_pred_800-enu_true_800)/enu_true_800\n",
    "ehad_pred_800 = input_data_800[:,0+3+3]; ehad_true_800 = input_data_800[:,0]; ehad_ratio_800 = (ehad_pred_800-ehad_true_800)/ehad_true_800\n",
    "emu_pred_800 = input_data_800[:,1+3+3]; emu_true_800 = input_data_800[:,1]; emu_ratio_800 = (emu_pred_800-emu_true_800)/emu_true_800\n",
    "\n",
    "enu_pred_10 = input_data_10[:,2+3+3]; enu_true_10 = input_data_10[:,2]; enu_ratio_10 = (enu_pred_10-enu_true_10)/enu_true_10\n",
    "ehad_pred_10 = input_data_10[:,0+3+3]; ehad_true_10 = input_data_10[:,0]; ehad_ratio_10 = (ehad_pred_10-ehad_true_10)/ehad_true_10\n",
    "emu_pred_10 = input_data_10[:,1+3+3]; emu_true_10 = input_data_10[:,1]; emu_ratio_10 = (emu_pred_10-emu_true_10)/emu_true_10"
   ]
  },
  {
   "cell_type": "code",
   "execution_count": null,
   "id": "b0504b3d-aa5e-46c1-aa7e-2c728f32c234",
   "metadata": {},
   "outputs": [],
   "source": [
    "energy_slices_400 = np.logspace(3,7,81)\n",
    "energy_centers_400 = 0.5*(energy_slices_400[1:] + energy_slices_400[:-1])\n",
    "\n",
    "energy_slices_800 = np.logspace(3,7,81)\n",
    "energy_centers_800 = 0.5*(energy_slices_800[1:] + energy_slices_800[:-1])\n",
    "\n",
    "energy_slices_10 = np.logspace(3,7,81)\n",
    "energy_centers_10 = 0.5*(energy_slices_10[1:] + energy_slices_10[:-1])"
   ]
  },
  {
   "cell_type": "code",
   "execution_count": null,
   "id": "edd6d690-6104-4ebd-be5f-f9bf1d45c768",
   "metadata": {},
   "outputs": [],
   "source": [
    "trans_rates_in_2D_400, new_xbins_400, new_ybins_400 = np.histogram2d(enu_true_400, enu_pred_400, \n",
    "                                                         weights=np.ones(len(enu_pred_400))/len(enu_pred_400),\n",
    "                                                         bins=[energy_slices_400,energy_slices_400])\n",
    "rates_in_2D_400 = trans_rates_in_2D_400.T\n",
    "\n",
    "\n",
    "trans_rates_in_2D_800, new_xbins_800, new_ybins_800 = np.histogram2d(enu_true_800, enu_pred_800, \n",
    "                                                         weights=np.ones(len(enu_pred_800))/len(enu_pred_800),\n",
    "                                                         bins=[energy_slices_800,energy_slices_800])\n",
    "rates_in_2D_800 = trans_rates_in_2D_800.T\n",
    "\n",
    "\n",
    "trans_rates_in_2D_10, new_xbins_10, new_ybins_10 = np.histogram2d(enu_true_10, enu_pred_10, \n",
    "                                                         weights=np.ones(len(enu_pred_10))/len(enu_pred_10),\n",
    "                                                         bins=[energy_slices_10,energy_slices_10])\n",
    "rates_in_2D_10 = trans_rates_in_2D_10.T"
   ]
  },
  {
   "cell_type": "code",
   "execution_count": null,
   "id": "56925b21-6dcb-43fe-8991-ef85b3545540",
   "metadata": {},
   "outputs": [],
   "source": [
    "ratio_slices_400 = np.linspace(-3,3,121)\n",
    "ratio_centers_400 = 0.5*(ratio_slices_400[1:] + ratio_slices_400[:-1])\n",
    "\n",
    "trans_rates_in_2D_400, new_xbins_400, new_ybins_400 = np.histogram2d(enu_true_400, enu_ratio_400, \n",
    "                                                         weights=np.ones(len(enu_pred_400))/len(enu_pred_400),\n",
    "                                                         bins=[energy_slices_400,ratio_slices_400])\n",
    "rates_in_2D_400 = trans_rates_in_2D_400.T\n",
    "\n",
    "\n",
    "\n",
    "ratio_slices_800 = np.linspace(-3,3,121)\n",
    "ratio_centers_800 = 0.5*(ratio_slices_800[1:] + ratio_slices_800[:-1])\n",
    "\n",
    "trans_rates_in_2D_800, new_xbins_800, new_ybins_800 = np.histogram2d(enu_true_800, enu_ratio_800, \n",
    "                                                         weights=np.ones(len(enu_pred_800))/len(enu_pred_800),\n",
    "                                                         bins=[energy_slices_800,ratio_slices_800])\n",
    "rates_in_2D_800 = trans_rates_in_2D_800.T\n",
    "\n",
    "\n",
    "\n",
    "ratio_slices_10 = np.linspace(-3,3,121)\n",
    "ratio_centers_10 = 0.5*(ratio_slices_10[1:] + ratio_slices_10[:-1])\n",
    "\n",
    "trans_rates_in_2D_10, new_xbins_10, new_ybins_10 = np.histogram2d(enu_true_10, enu_ratio_10, \n",
    "                                                         weights=np.ones(len(enu_pred_10))/len(enu_pred_10),\n",
    "                                                         bins=[energy_slices_10,ratio_slices_10])\n",
    "rates_in_2D_10 = trans_rates_in_2D_10.T"
   ]
  },
  {
   "cell_type": "code",
   "execution_count": null,
   "id": "ff787acb-e5c2-4849-bf31-82ac6e48e8de",
   "metadata": {},
   "outputs": [],
   "source": [
    "median_400 = []; phalf_400 = []; mhalf_400 = [] \n",
    "for i in range(len(energy_centers_400)): \n",
    "    hist_ratio_1d_400 = trans_rates_in_2D_400[i]\n",
    "    median_400.append(calculate_quantile(hist_ratio_1d_400, ratio_centers_400, q=0.5))\n",
    "    phalf_400.append(calculate_quantile(hist_ratio_1d_400, ratio_centers_400, q=0.75))\n",
    "    mhalf_400.append(calculate_quantile(hist_ratio_1d_400, ratio_centers_400, q=0.25))\n",
    "\n",
    "median_400 = np.array(median_400, dtype=float)\n",
    "phalf_400 = np.array(phalf_400, dtype=float)\n",
    "mhalf_400 = np.array(mhalf_400, dtype=float)\n",
    "\n",
    "\n",
    "\n",
    "median_800 = []; phalf_800 = []; mhalf_800 = [] \n",
    "for i in range(len(energy_centers_800)): \n",
    "    hist_ratio_1d_800 = trans_rates_in_2D_800[i]\n",
    "    median_800.append(calculate_quantile(hist_ratio_1d_800, ratio_centers_800, q=0.5))\n",
    "    phalf_800.append(calculate_quantile(hist_ratio_1d_800, ratio_centers_800, q=0.75))\n",
    "    mhalf_800.append(calculate_quantile(hist_ratio_1d_800, ratio_centers_800, q=0.25))\n",
    "\n",
    "median_800 = np.array(median_800, dtype=float)\n",
    "phalf_800 = np.array(phalf_800, dtype=float)\n",
    "mhalf_800 = np.array(mhalf_800, dtype=float)\n",
    "\n",
    "\n",
    "\n",
    "median_10 = []; phalf_10 = []; mhalf_10 = [] \n",
    "for i in range(len(energy_centers_10)): \n",
    "    hist_ratio_1d_10 = trans_rates_in_2D_10[i]\n",
    "    median_10.append(calculate_quantile(hist_ratio_1d_10, ratio_centers_10, q=0.5))\n",
    "    phalf_10.append(calculate_quantile(hist_ratio_1d_10, ratio_centers_10, q=0.75))\n",
    "    mhalf_10.append(calculate_quantile(hist_ratio_1d_10, ratio_centers_10, q=0.25))\n",
    "\n",
    "median_10 = np.array(median_10, dtype=float)\n",
    "phalf_10 = np.array(phalf_10, dtype=float)\n",
    "mhalf_10 = np.array(mhalf_10, dtype=float)"
   ]
  },
  {
   "cell_type": "code",
   "execution_count": null,
   "id": "03f14e01-efbe-4f84-aaf5-839ab5567261",
   "metadata": {},
   "outputs": [],
   "source": [
    "fig, ax = plt.subplots(1, 1, figsize=(8,6))\n",
    "\n",
    "cbar.ax.tick_params(labelsize=labelfontsize)\n",
    "\n",
    "ax.set_xscale(\"log\")\n",
    "#ax.set_yscale(\"log\")\n",
    "ax.set_xlim(10**3,10**6)\n",
    "ax.set_ylim(-1.5,1.5)\n",
    "\n",
    "ax.set_title(\"Number of Estimators = 400, 800, 1000 | Max Depth = 100\", fontsize=titlefontsize)\n",
    "ax.set_xlabel(r\"$E_{\\nu}^{true}$ [GeV]\", fontsize=labelfontsize, labelpad=labelpad)\n",
    "ax.set_ylabel(r\"$(E_{\\nu}^{reco}-E_{\\nu}^{true})/E_{\\nu}^{true}$\", fontsize=labelfontsize, labelpad=labelpad)\n",
    "\n",
    "x = np.arange(energy_slices[0], energy_slices[-1], 10)\n",
    "y = np.zeros(len(x))\n",
    "ax.plot(x, y, linestyle=\"dotted\", linewidth=2.0, color=\"black\")\n",
    "\n",
    "ax.plot(energy_centers, median_400, linestyle=\"solid\", linewidth=2.0, color=\"black\", label=\"median, n estimators = 400\")\n",
    "ax.plot(energy_centers, median_800, linestyle=\"solid\", linewidth=2.0, color=\"magenta\", label=\"median, n estimators = 800\")\n",
    "ax.plot(energy_centers, median_10, linestyle=\"solid\", linewidth=2.0, color=\"green\", label=\"median, n estimators = 1000\")\n",
    "#ax.plot(energy_centers, phalf, linestyle=\"dashdot\", linewidth=2.0, color=\"black\", label=\"50 percentile\")\n",
    "#ax.plot(energy_centers, mhalf, linestyle=\"dashdot\", linewidth=2.0, color=\"black\")\n",
    "\n",
    "ax.legend(bbox_to_anchor=(1,1), loc=\"upper right\", borderaxespad=1, fontsize=legendfontsize-1)\n",
    "plt.tick_params(labelsize=labelfontsize)\n",
    "\n",
    "plt.savefig(\"medians_md_100.png\")"
   ]
  },
  {
   "cell_type": "code",
   "execution_count": null,
   "id": "9a467f07-7a8b-4857-8866-57b075a33261",
   "metadata": {},
   "outputs": [],
   "source": []
  }
 ],
 "metadata": {
  "kernelspec": {
   "display_name": "py3-v4.2.0: icetray/v1.3.3",
   "language": "shell",
   "name": "py3-v4.2.0_v1.3.3"
  },
  "language_info": {
   "codemirror_mode": {
    "name": "ipython",
    "version": 3
   },
   "file_extension": ".py",
   "mimetype": "text/x-python",
   "name": "python",
   "nbconvert_exporter": "python",
   "pygments_lexer": "ipython3",
   "version": "3.10.2"
  }
 },
 "nbformat": 4,
 "nbformat_minor": 5
}
